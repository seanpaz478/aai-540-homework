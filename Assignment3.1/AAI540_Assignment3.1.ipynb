{
 "cells": [
  {
   "cell_type": "code",
   "execution_count": 63,
   "id": "5925d3e5-81f5-4821-a89d-86c4748865dd",
   "metadata": {
    "execution": {
     "iopub.execute_input": "2025-09-23T05:06:47.422674Z",
     "iopub.status.busy": "2025-09-23T05:06:47.422380Z",
     "iopub.status.idle": "2025-09-23T05:06:47.427055Z",
     "shell.execute_reply": "2025-09-23T05:06:47.426136Z",
     "shell.execute_reply.started": "2025-09-23T05:06:47.422649Z"
    }
   },
   "outputs": [],
   "source": [
    "# Importing necessary libraries\n",
    "import boto3\n",
    "import sagemaker\n",
    "from sagemaker.session import Session\n",
    "from sagemaker import get_execution_role\n",
    "import numpy as np\n",
    "import pandas as pd\n",
    "import matplotlib.pyplot as plt\n",
    "import io\n",
    "from time import gmtime, strftime, sleep\n",
    "from sagemaker.feature_store.feature_group import FeatureGroup\n",
    "from sagemaker.feature_store.feature_store import FeatureStore\n",
    "import time\n",
    "from datetime import datetime, timezone"
   ]
  },
  {
   "cell_type": "code",
   "execution_count": 3,
   "id": "6acdb9ab-dd74-4d80-aa48-643de549a7b3",
   "metadata": {
    "execution": {
     "iopub.execute_input": "2025-09-23T03:18:49.951627Z",
     "iopub.status.busy": "2025-09-23T03:18:49.951368Z",
     "iopub.status.idle": "2025-09-23T03:18:51.822898Z",
     "shell.execute_reply": "2025-09-23T03:18:51.822048Z",
     "shell.execute_reply.started": "2025-09-23T03:18:49.951606Z"
    }
   },
   "outputs": [
    {
     "name": "stdout",
     "output_type": "stream",
     "text": [
      "Requirement already satisfied: boto3>1.17.21 in /opt/conda/lib/python3.12/site-packages (1.37.1)\n",
      "Requirement already satisfied: botocore<1.38.0,>=1.37.1 in /opt/conda/lib/python3.12/site-packages (from boto3>1.17.21) (1.37.1)\n",
      "Requirement already satisfied: jmespath<2.0.0,>=0.7.1 in /opt/conda/lib/python3.12/site-packages (from boto3>1.17.21) (1.0.1)\n",
      "Requirement already satisfied: s3transfer<0.12.0,>=0.11.0 in /opt/conda/lib/python3.12/site-packages (from boto3>1.17.21) (0.11.3)\n",
      "Requirement already satisfied: python-dateutil<3.0.0,>=2.1 in /opt/conda/lib/python3.12/site-packages (from botocore<1.38.0,>=1.37.1->boto3>1.17.21) (2.9.0.post0)\n",
      "Requirement already satisfied: urllib3!=2.2.0,<3,>=1.25.4 in /opt/conda/lib/python3.12/site-packages (from botocore<1.38.0,>=1.37.1->boto3>1.17.21) (1.26.19)\n",
      "Requirement already satisfied: six>=1.5 in /opt/conda/lib/python3.12/site-packages (from python-dateutil<3.0.0,>=2.1->botocore<1.38.0,>=1.37.1->boto3>1.17.21) (1.17.0)\n",
      "Note: you may need to restart the kernel to use updated packages.\n"
     ]
    }
   ],
   "source": [
    "# Ensuring boto3 version is above 1.17.21\n",
    "original_boto3_version = boto3.__version__\n",
    "%pip install 'boto3>1.17.21'"
   ]
  },
  {
   "cell_type": "code",
   "execution_count": 4,
   "id": "7090cb90-a47d-4b5f-b710-5835232f69d8",
   "metadata": {
    "execution": {
     "iopub.execute_input": "2025-09-23T03:21:38.404581Z",
     "iopub.status.busy": "2025-09-23T03:21:38.404289Z",
     "iopub.status.idle": "2025-09-23T03:21:38.554954Z",
     "shell.execute_reply": "2025-09-23T03:21:38.554332Z",
     "shell.execute_reply.started": "2025-09-23T03:21:38.404561Z"
    }
   },
   "outputs": [],
   "source": [
    "region = boto3.Session().region_name\n",
    "\n",
    "boto_session = boto3.Session(region_name=region)\n",
    "\n",
    "sagemaker_client = boto_session.client(service_name=\"sagemaker\", region_name=region)\n",
    "featurestore_runtime = boto_session.client(\n",
    "    service_name=\"sagemaker-featurestore-runtime\", region_name=region\n",
    ")\n",
    "\n",
    "feature_store_session = Session(\n",
    "    boto_session=boto_session,\n",
    "    sagemaker_client=sagemaker_client,\n",
    "    sagemaker_featurestore_runtime_client=featurestore_runtime\n",
    ")"
   ]
  },
  {
   "cell_type": "code",
   "execution_count": 5,
   "id": "9fd748c1-9d3e-43ac-8585-a1347e900a1f",
   "metadata": {
    "execution": {
     "iopub.execute_input": "2025-09-23T03:23:33.723035Z",
     "iopub.status.busy": "2025-09-23T03:23:33.722652Z",
     "iopub.status.idle": "2025-09-23T03:23:34.072975Z",
     "shell.execute_reply": "2025-09-23T03:23:34.072314Z",
     "shell.execute_reply.started": "2025-09-23T03:23:33.723002Z"
    }
   },
   "outputs": [
    {
     "name": "stdout",
     "output_type": "stream",
     "text": [
      "sagemaker-us-east-1-851725636446\n"
     ]
    }
   ],
   "source": [
    "# Setting default s3 bucket\n",
    "default_s3_bucket_name = feature_store_session.default_bucket()\n",
    "prefix = \"sagemaker-assignment3.1\"\n",
    "\n",
    "print(default_s3_bucket_name)"
   ]
  },
  {
   "cell_type": "code",
   "execution_count": 6,
   "id": "f063dd14-b721-4369-9a32-b5ea0fdcff4c",
   "metadata": {
    "execution": {
     "iopub.execute_input": "2025-09-23T03:24:14.950749Z",
     "iopub.status.busy": "2025-09-23T03:24:14.950338Z",
     "iopub.status.idle": "2025-09-23T03:24:15.779129Z",
     "shell.execute_reply": "2025-09-23T03:24:15.778414Z",
     "shell.execute_reply.started": "2025-09-23T03:24:14.950715Z"
    }
   },
   "outputs": [
    {
     "name": "stdout",
     "output_type": "stream",
     "text": [
      "arn:aws:iam::851725636446:role/LabRole\n"
     ]
    }
   ],
   "source": [
    "# Setting up IAM role\n",
    "role = get_execution_role()\n",
    "print(role)"
   ]
  },
  {
   "cell_type": "code",
   "execution_count": 13,
   "id": "0645c233-7eef-4617-a327-4e1c2c2746f9",
   "metadata": {
    "execution": {
     "iopub.execute_input": "2025-09-23T03:54:45.437130Z",
     "iopub.status.busy": "2025-09-23T03:54:45.436881Z",
     "iopub.status.idle": "2025-09-23T03:54:45.511662Z",
     "shell.execute_reply": "2025-09-23T03:54:45.511019Z",
     "shell.execute_reply.started": "2025-09-23T03:54:45.437111Z"
    }
   },
   "outputs": [],
   "source": [
    "# Inspecting datasets\n",
    "housing_data = pd.read_csv(\"Assignment3.1/housing.csv\")\n",
    "housing_gmaps_data = pd.read_csv(\"Assignment3.1/housing_gmaps_data_raw.csv\")"
   ]
  },
  {
   "cell_type": "code",
   "execution_count": 14,
   "id": "5551dd41-e540-4ad4-8880-034ad206b2d3",
   "metadata": {
    "execution": {
     "iopub.execute_input": "2025-09-23T03:54:46.818029Z",
     "iopub.status.busy": "2025-09-23T03:54:46.817779Z",
     "iopub.status.idle": "2025-09-23T03:54:46.838410Z",
     "shell.execute_reply": "2025-09-23T03:54:46.837647Z",
     "shell.execute_reply.started": "2025-09-23T03:54:46.818010Z"
    }
   },
   "outputs": [
    {
     "data": {
      "text/html": [
       "<div>\n",
       "<style scoped>\n",
       "    .dataframe tbody tr th:only-of-type {\n",
       "        vertical-align: middle;\n",
       "    }\n",
       "\n",
       "    .dataframe tbody tr th {\n",
       "        vertical-align: top;\n",
       "    }\n",
       "\n",
       "    .dataframe thead th {\n",
       "        text-align: right;\n",
       "    }\n",
       "</style>\n",
       "<table border=\"1\" class=\"dataframe\">\n",
       "  <thead>\n",
       "    <tr style=\"text-align: right;\">\n",
       "      <th></th>\n",
       "      <th>longitude</th>\n",
       "      <th>latitude</th>\n",
       "      <th>housing_median_age</th>\n",
       "      <th>total_rooms</th>\n",
       "      <th>total_bedrooms</th>\n",
       "      <th>population</th>\n",
       "      <th>households</th>\n",
       "      <th>median_income</th>\n",
       "      <th>median_house_value</th>\n",
       "      <th>ocean_proximity</th>\n",
       "    </tr>\n",
       "  </thead>\n",
       "  <tbody>\n",
       "    <tr>\n",
       "      <th>0</th>\n",
       "      <td>-122.23</td>\n",
       "      <td>37.88</td>\n",
       "      <td>41.0</td>\n",
       "      <td>880.0</td>\n",
       "      <td>129.0</td>\n",
       "      <td>322.0</td>\n",
       "      <td>126.0</td>\n",
       "      <td>8.3252</td>\n",
       "      <td>452600.0</td>\n",
       "      <td>NEAR BAY</td>\n",
       "    </tr>\n",
       "    <tr>\n",
       "      <th>1</th>\n",
       "      <td>-122.22</td>\n",
       "      <td>37.86</td>\n",
       "      <td>21.0</td>\n",
       "      <td>7099.0</td>\n",
       "      <td>1106.0</td>\n",
       "      <td>2401.0</td>\n",
       "      <td>1138.0</td>\n",
       "      <td>8.3014</td>\n",
       "      <td>358500.0</td>\n",
       "      <td>NEAR BAY</td>\n",
       "    </tr>\n",
       "    <tr>\n",
       "      <th>2</th>\n",
       "      <td>-122.24</td>\n",
       "      <td>37.85</td>\n",
       "      <td>52.0</td>\n",
       "      <td>1467.0</td>\n",
       "      <td>190.0</td>\n",
       "      <td>496.0</td>\n",
       "      <td>177.0</td>\n",
       "      <td>7.2574</td>\n",
       "      <td>352100.0</td>\n",
       "      <td>NEAR BAY</td>\n",
       "    </tr>\n",
       "    <tr>\n",
       "      <th>3</th>\n",
       "      <td>-122.25</td>\n",
       "      <td>37.85</td>\n",
       "      <td>52.0</td>\n",
       "      <td>1274.0</td>\n",
       "      <td>235.0</td>\n",
       "      <td>558.0</td>\n",
       "      <td>219.0</td>\n",
       "      <td>5.6431</td>\n",
       "      <td>341300.0</td>\n",
       "      <td>NEAR BAY</td>\n",
       "    </tr>\n",
       "    <tr>\n",
       "      <th>4</th>\n",
       "      <td>-122.25</td>\n",
       "      <td>37.85</td>\n",
       "      <td>52.0</td>\n",
       "      <td>1627.0</td>\n",
       "      <td>280.0</td>\n",
       "      <td>565.0</td>\n",
       "      <td>259.0</td>\n",
       "      <td>3.8462</td>\n",
       "      <td>342200.0</td>\n",
       "      <td>NEAR BAY</td>\n",
       "    </tr>\n",
       "  </tbody>\n",
       "</table>\n",
       "</div>"
      ],
      "text/plain": [
       "   longitude  latitude  ...  median_house_value  ocean_proximity\n",
       "0    -122.23     37.88  ...            452600.0         NEAR BAY\n",
       "1    -122.22     37.86  ...            358500.0         NEAR BAY\n",
       "2    -122.24     37.85  ...            352100.0         NEAR BAY\n",
       "3    -122.25     37.85  ...            341300.0         NEAR BAY\n",
       "4    -122.25     37.85  ...            342200.0         NEAR BAY\n",
       "\n",
       "[5 rows x 10 columns]"
      ]
     },
     "execution_count": 14,
     "metadata": {},
     "output_type": "execute_result"
    }
   ],
   "source": [
    "housing_data.head()"
   ]
  },
  {
   "cell_type": "code",
   "execution_count": 15,
   "id": "9215f7d4-d093-4ff5-a116-10726dfecd78",
   "metadata": {
    "execution": {
     "iopub.execute_input": "2025-09-23T03:54:47.921792Z",
     "iopub.status.busy": "2025-09-23T03:54:47.921530Z",
     "iopub.status.idle": "2025-09-23T03:54:47.956973Z",
     "shell.execute_reply": "2025-09-23T03:54:47.956271Z",
     "shell.execute_reply.started": "2025-09-23T03:54:47.921773Z"
    }
   },
   "outputs": [
    {
     "data": {
      "text/html": [
       "<div>\n",
       "<style scoped>\n",
       "    .dataframe tbody tr th:only-of-type {\n",
       "        vertical-align: middle;\n",
       "    }\n",
       "\n",
       "    .dataframe tbody tr th {\n",
       "        vertical-align: top;\n",
       "    }\n",
       "\n",
       "    .dataframe thead th {\n",
       "        text-align: right;\n",
       "    }\n",
       "</style>\n",
       "<table border=\"1\" class=\"dataframe\">\n",
       "  <thead>\n",
       "    <tr style=\"text-align: right;\">\n",
       "      <th></th>\n",
       "      <th>street_number</th>\n",
       "      <th>route</th>\n",
       "      <th>locality-political</th>\n",
       "      <th>administrative_area_level_2-political</th>\n",
       "      <th>administrative_area_level_1-political</th>\n",
       "      <th>country-political</th>\n",
       "      <th>postal_code</th>\n",
       "      <th>address</th>\n",
       "      <th>longitude</th>\n",
       "      <th>latitude</th>\n",
       "      <th>neighborhood-political</th>\n",
       "      <th>postal_code_suffix</th>\n",
       "      <th>establishment-point_of_interest-transit_station</th>\n",
       "      <th>establishment-park-point_of_interest</th>\n",
       "      <th>premise</th>\n",
       "      <th>establishment-point_of_interest-subway_station-transit_station</th>\n",
       "      <th>airport-establishment-finance-moving_company-point_of_interest-storage</th>\n",
       "      <th>subpremise</th>\n",
       "      <th>bus_station-establishment-point_of_interest-transit_station</th>\n",
       "      <th>establishment-park-point_of_interest-tourist_attraction</th>\n",
       "      <th>establishment-natural_feature</th>\n",
       "      <th>airport-establishment-point_of_interest</th>\n",
       "      <th>political-sublocality-sublocality_level_1</th>\n",
       "      <th>administrative_area_level_3-political</th>\n",
       "      <th>post_box</th>\n",
       "      <th>establishment-light_rail_station-point_of_interest-transit_station</th>\n",
       "      <th>establishment-point_of_interest</th>\n",
       "      <th>aquarium-establishment-park-point_of_interest-tourist_attraction-zoo</th>\n",
       "      <th>campground-establishment-lodging-park-point_of_interest-rv_park-tourist_attraction</th>\n",
       "      <th>cemetery-establishment-park-point_of_interest</th>\n",
       "    </tr>\n",
       "  </thead>\n",
       "  <tbody>\n",
       "    <tr>\n",
       "      <th>0</th>\n",
       "      <td>3130</td>\n",
       "      <td>Grizzly Peak Boulevard</td>\n",
       "      <td>Berkeley</td>\n",
       "      <td>Alameda County</td>\n",
       "      <td>California</td>\n",
       "      <td>United States</td>\n",
       "      <td>94705.0</td>\n",
       "      <td>3130 Grizzly Peak Blvd, Berkeley, CA 94705, USA</td>\n",
       "      <td>-122.23</td>\n",
       "      <td>37.88</td>\n",
       "      <td>NaN</td>\n",
       "      <td>NaN</td>\n",
       "      <td>NaN</td>\n",
       "      <td>NaN</td>\n",
       "      <td>NaN</td>\n",
       "      <td>NaN</td>\n",
       "      <td>NaN</td>\n",
       "      <td>NaN</td>\n",
       "      <td>NaN</td>\n",
       "      <td>NaN</td>\n",
       "      <td>NaN</td>\n",
       "      <td>NaN</td>\n",
       "      <td>NaN</td>\n",
       "      <td>NaN</td>\n",
       "      <td>NaN</td>\n",
       "      <td>NaN</td>\n",
       "      <td>NaN</td>\n",
       "      <td>NaN</td>\n",
       "      <td>NaN</td>\n",
       "      <td>NaN</td>\n",
       "    </tr>\n",
       "    <tr>\n",
       "      <th>1</th>\n",
       "      <td>2005</td>\n",
       "      <td>Tunnel Road</td>\n",
       "      <td>Oakland</td>\n",
       "      <td>Alameda County</td>\n",
       "      <td>California</td>\n",
       "      <td>United States</td>\n",
       "      <td>94611.0</td>\n",
       "      <td>2005 Tunnel Rd, Oakland, CA 94611, USA</td>\n",
       "      <td>-122.22</td>\n",
       "      <td>37.86</td>\n",
       "      <td>Merriewood</td>\n",
       "      <td>1021.0</td>\n",
       "      <td>NaN</td>\n",
       "      <td>NaN</td>\n",
       "      <td>NaN</td>\n",
       "      <td>NaN</td>\n",
       "      <td>NaN</td>\n",
       "      <td>NaN</td>\n",
       "      <td>NaN</td>\n",
       "      <td>NaN</td>\n",
       "      <td>NaN</td>\n",
       "      <td>NaN</td>\n",
       "      <td>NaN</td>\n",
       "      <td>NaN</td>\n",
       "      <td>NaN</td>\n",
       "      <td>NaN</td>\n",
       "      <td>NaN</td>\n",
       "      <td>NaN</td>\n",
       "      <td>NaN</td>\n",
       "      <td>NaN</td>\n",
       "    </tr>\n",
       "    <tr>\n",
       "      <th>2</th>\n",
       "      <td>6886</td>\n",
       "      <td>Chabot Road</td>\n",
       "      <td>Oakland</td>\n",
       "      <td>Alameda County</td>\n",
       "      <td>California</td>\n",
       "      <td>United States</td>\n",
       "      <td>94618.0</td>\n",
       "      <td>6886 Chabot Rd, Oakland, CA 94618, USA</td>\n",
       "      <td>-122.24</td>\n",
       "      <td>37.85</td>\n",
       "      <td>Upper Rockridge</td>\n",
       "      <td>NaN</td>\n",
       "      <td>NaN</td>\n",
       "      <td>NaN</td>\n",
       "      <td>NaN</td>\n",
       "      <td>NaN</td>\n",
       "      <td>NaN</td>\n",
       "      <td>NaN</td>\n",
       "      <td>NaN</td>\n",
       "      <td>NaN</td>\n",
       "      <td>NaN</td>\n",
       "      <td>NaN</td>\n",
       "      <td>NaN</td>\n",
       "      <td>NaN</td>\n",
       "      <td>NaN</td>\n",
       "      <td>NaN</td>\n",
       "      <td>NaN</td>\n",
       "      <td>NaN</td>\n",
       "      <td>NaN</td>\n",
       "      <td>NaN</td>\n",
       "    </tr>\n",
       "    <tr>\n",
       "      <th>3</th>\n",
       "      <td>6365</td>\n",
       "      <td>Florio Street</td>\n",
       "      <td>Oakland</td>\n",
       "      <td>Alameda County</td>\n",
       "      <td>California</td>\n",
       "      <td>United States</td>\n",
       "      <td>94618.0</td>\n",
       "      <td>6365 Florio St, Oakland, CA 94618, USA</td>\n",
       "      <td>-122.25</td>\n",
       "      <td>37.85</td>\n",
       "      <td>Rockridge</td>\n",
       "      <td>1335.0</td>\n",
       "      <td>NaN</td>\n",
       "      <td>NaN</td>\n",
       "      <td>NaN</td>\n",
       "      <td>NaN</td>\n",
       "      <td>NaN</td>\n",
       "      <td>NaN</td>\n",
       "      <td>NaN</td>\n",
       "      <td>NaN</td>\n",
       "      <td>NaN</td>\n",
       "      <td>NaN</td>\n",
       "      <td>NaN</td>\n",
       "      <td>NaN</td>\n",
       "      <td>NaN</td>\n",
       "      <td>NaN</td>\n",
       "      <td>NaN</td>\n",
       "      <td>NaN</td>\n",
       "      <td>NaN</td>\n",
       "      <td>NaN</td>\n",
       "    </tr>\n",
       "    <tr>\n",
       "      <th>4</th>\n",
       "      <td>5407</td>\n",
       "      <td>Bryant Avenue</td>\n",
       "      <td>Oakland</td>\n",
       "      <td>Alameda County</td>\n",
       "      <td>California</td>\n",
       "      <td>United States</td>\n",
       "      <td>94618.0</td>\n",
       "      <td>5407 Bryant Ave, Oakland, CA 94618, USA</td>\n",
       "      <td>-122.25</td>\n",
       "      <td>37.84</td>\n",
       "      <td>Rockridge</td>\n",
       "      <td>1431.0</td>\n",
       "      <td>NaN</td>\n",
       "      <td>NaN</td>\n",
       "      <td>NaN</td>\n",
       "      <td>NaN</td>\n",
       "      <td>NaN</td>\n",
       "      <td>NaN</td>\n",
       "      <td>NaN</td>\n",
       "      <td>NaN</td>\n",
       "      <td>NaN</td>\n",
       "      <td>NaN</td>\n",
       "      <td>NaN</td>\n",
       "      <td>NaN</td>\n",
       "      <td>NaN</td>\n",
       "      <td>NaN</td>\n",
       "      <td>NaN</td>\n",
       "      <td>NaN</td>\n",
       "      <td>NaN</td>\n",
       "      <td>NaN</td>\n",
       "    </tr>\n",
       "  </tbody>\n",
       "</table>\n",
       "</div>"
      ],
      "text/plain": [
       "  street_number  ... cemetery-establishment-park-point_of_interest\n",
       "0          3130  ...                                           NaN\n",
       "1          2005  ...                                           NaN\n",
       "2          6886  ...                                           NaN\n",
       "3          6365  ...                                           NaN\n",
       "4          5407  ...                                           NaN\n",
       "\n",
       "[5 rows x 30 columns]"
      ]
     },
     "execution_count": 15,
     "metadata": {},
     "output_type": "execute_result"
    }
   ],
   "source": [
    "housing_gmaps_data.head()"
   ]
  },
  {
   "cell_type": "code",
   "execution_count": 19,
   "id": "d6d1e9e9-a600-4737-a47f-0d0cab7d87de",
   "metadata": {
    "execution": {
     "iopub.execute_input": "2025-09-23T04:11:18.604408Z",
     "iopub.status.busy": "2025-09-23T04:11:18.604121Z",
     "iopub.status.idle": "2025-09-23T04:11:18.609002Z",
     "shell.execute_reply": "2025-09-23T04:11:18.608331Z",
     "shell.execute_reply.started": "2025-09-23T04:11:18.604386Z"
    }
   },
   "outputs": [
    {
     "name": "stdout",
     "output_type": "stream",
     "text": [
      "NaN neighborhood-political values: 8413/12590\n"
     ]
    }
   ],
   "source": [
    "# Checking for NaNs in the gmaps dataset\n",
    "nan_count = housing_gmaps_data[\"neighborhood-political\"].isna().sum()\n",
    "total_count = len(housing_gmaps_data)\n",
    "print(f\"NaN neighborhood-political values: {nan_count}/{total_count}\")"
   ]
  },
  {
   "cell_type": "code",
   "execution_count": 20,
   "id": "bb90f41b-446a-45ae-84d2-8cdfb53b4a0c",
   "metadata": {
    "execution": {
     "iopub.execute_input": "2025-09-23T04:14:31.146705Z",
     "iopub.status.busy": "2025-09-23T04:14:31.146436Z",
     "iopub.status.idle": "2025-09-23T04:14:31.152298Z",
     "shell.execute_reply": "2025-09-23T04:14:31.151477Z",
     "shell.execute_reply.started": "2025-09-23T04:14:31.146685Z"
    }
   },
   "outputs": [],
   "source": [
    "# Imputing neighborhood-political column since there are so many missing rows\n",
    "housing_gmaps_data[\"neighborhood-political\"] = housing_gmaps_data[\"neighborhood-political\"].fillna(\"Unknown\")"
   ]
  },
  {
   "cell_type": "code",
   "execution_count": 21,
   "id": "e701ae09-0a2a-450e-a6bd-fccc53689806",
   "metadata": {
    "execution": {
     "iopub.execute_input": "2025-09-23T04:14:33.954300Z",
     "iopub.status.busy": "2025-09-23T04:14:33.954029Z",
     "iopub.status.idle": "2025-09-23T04:14:33.959923Z",
     "shell.execute_reply": "2025-09-23T04:14:33.959263Z",
     "shell.execute_reply.started": "2025-09-23T04:14:33.954279Z"
    }
   },
   "outputs": [],
   "source": [
    "# Rounding longitude and latitude to 4 decimals to match and merge datasets\n",
    "housing_data[\"longitude_rounded\"] = housing_data[\"longitude\"].round(4)\n",
    "housing_data[\"latitude_rounded\"] = housing_data[\"latitude\"].round(4)\n",
    "\n",
    "housing_gmaps_data[\"longitude_rounded\"] = housing_gmaps_data[\"longitude\"].round(4)\n",
    "housing_gmaps_data[\"latitude_rounded\"] = housing_gmaps_data[\"latitude\"].round(4)"
   ]
  },
  {
   "cell_type": "code",
   "execution_count": 22,
   "id": "45bde43f-7688-45c4-a3cf-f95b89bd7a1b",
   "metadata": {
    "execution": {
     "iopub.execute_input": "2025-09-23T04:14:42.651226Z",
     "iopub.status.busy": "2025-09-23T04:14:42.650966Z",
     "iopub.status.idle": "2025-09-23T04:14:42.697168Z",
     "shell.execute_reply": "2025-09-23T04:14:42.696295Z",
     "shell.execute_reply.started": "2025-09-23T04:14:42.651205Z"
    }
   },
   "outputs": [
    {
     "name": "stdout",
     "output_type": "stream",
     "text": [
      "   longitude  latitude neighborhood-political\n",
      "0    -122.23     37.88                Unknown\n",
      "1    -122.22     37.86             Merriewood\n",
      "2    -122.24     37.85        Upper Rockridge\n",
      "3    -122.25     37.85              Rockridge\n",
      "4    -122.25     37.85              Rockridge\n"
     ]
    }
   ],
   "source": [
    "# Merging datasets\n",
    "merged = housing_data.merge(\n",
    "    housing_gmaps_data,\n",
    "    on=[\"longitude_rounded\", \"latitude_rounded\"],\n",
    "    how=\"left\",\n",
    "    suffixes=(\"\", \"_gmaps\")\n",
    ")\n",
    "\n",
    "# Ensuring that neighborhood-political is present in merged\n",
    "print(merged[[\"longitude\", \"latitude\", \"neighborhood-political\"]].head())"
   ]
  },
  {
   "cell_type": "code",
   "execution_count": 28,
   "id": "7001a303-ddb3-466d-80fd-df8379cd112e",
   "metadata": {
    "execution": {
     "iopub.execute_input": "2025-09-23T04:23:12.940170Z",
     "iopub.status.busy": "2025-09-23T04:23:12.939904Z",
     "iopub.status.idle": "2025-09-23T04:23:12.944078Z",
     "shell.execute_reply": "2025-09-23T04:23:12.943376Z",
     "shell.execute_reply.started": "2025-09-23T04:23:12.940149Z"
    }
   },
   "outputs": [],
   "source": [
    "# Creating primary key and event time\n",
    "merged[\"primary_key\"] = merged[\"neighborhood-political\"]\n",
    "merged[\"event_time\"] = datetime.now(timezone.utc).isoformat()"
   ]
  },
  {
   "cell_type": "code",
   "execution_count": 46,
   "id": "f06300e3-f283-4732-a70b-16bd35463ea9",
   "metadata": {
    "execution": {
     "iopub.execute_input": "2025-09-23T04:47:39.758502Z",
     "iopub.status.busy": "2025-09-23T04:47:39.758240Z",
     "iopub.status.idle": "2025-09-23T04:47:39.788788Z",
     "shell.execute_reply": "2025-09-23T04:47:39.788066Z",
     "shell.execute_reply.started": "2025-09-23T04:47:39.758481Z"
    }
   },
   "outputs": [],
   "source": [
    "# One-Hot Encoding ocean_proximity and creating columns\n",
    "ocean_dummies = pd.get_dummies(merged[\"ocean_proximity\"])\n",
    "merged = pd.concat([merged, ocean_dummies], axis=1)\n",
    "\n",
    "merged.rename(columns={\n",
    "    \"<1H OCEAN\": \"<1h ocean\",\n",
    "    \"INLAND\": \"inland\",\n",
    "    \"ISLAND\": \"island\",\n",
    "    \"NEAR BAY\": \"near bay\",\n",
    "    \"NEAR OCEAN\": \"near ocean\"\n",
    "}, inplace=True)"
   ]
  },
  {
   "cell_type": "code",
   "execution_count": 47,
   "id": "5aa89186-1b82-4e46-b26e-bee30fcb350d",
   "metadata": {
    "execution": {
     "iopub.execute_input": "2025-09-23T04:47:41.182301Z",
     "iopub.status.busy": "2025-09-23T04:47:41.182046Z",
     "iopub.status.idle": "2025-09-23T04:47:41.190899Z",
     "shell.execute_reply": "2025-09-23T04:47:41.190216Z",
     "shell.execute_reply.started": "2025-09-23T04:47:41.182282Z"
    }
   },
   "outputs": [],
   "source": [
    "# Creating median house value\n",
    "merged[\"median house value\"] = (merged.groupby(\"primary_key\")[\"median_house_value\"].transform(\"mean\").clip(upper=500000))"
   ]
  },
  {
   "cell_type": "code",
   "execution_count": 48,
   "id": "d1e0e76d-2f19-4eb0-8872-3dcf10887ce6",
   "metadata": {
    "execution": {
     "iopub.execute_input": "2025-09-23T04:47:41.494248Z",
     "iopub.status.busy": "2025-09-23T04:47:41.493997Z",
     "iopub.status.idle": "2025-09-23T04:47:41.515737Z",
     "shell.execute_reply": "2025-09-23T04:47:41.514918Z",
     "shell.execute_reply.started": "2025-09-23T04:47:41.494229Z"
    }
   },
   "outputs": [],
   "source": [
    "# Creating median house age\n",
    "merged[\"median house age\"] = (merged.groupby(\"primary_key\")[\"housing_median_age\"]\n",
    "    .transform(\"mean\")\n",
    "    .apply(lambda x: f\"{int(x // 10) * 10}-{int(x // 10) * 10 + 9}\")\n",
    ")"
   ]
  },
  {
   "cell_type": "code",
   "execution_count": 49,
   "id": "350e0092-953d-4a17-814c-c63c0b43c2a1",
   "metadata": {
    "execution": {
     "iopub.execute_input": "2025-09-23T04:47:41.755257Z",
     "iopub.status.busy": "2025-09-23T04:47:41.754991Z",
     "iopub.status.idle": "2025-09-23T04:47:41.763313Z",
     "shell.execute_reply": "2025-09-23T04:47:41.762647Z",
     "shell.execute_reply.started": "2025-09-23T04:47:41.755237Z"
    }
   },
   "outputs": [],
   "source": [
    "# Creating total households\n",
    "merged[\"total households\"] = np.ceil(\n",
    "    merged.groupby(\"primary_key\")[\"households\"].transform(\"mean\")).astype(int)"
   ]
  },
  {
   "cell_type": "code",
   "execution_count": 50,
   "id": "fbe4f163-9a8c-4130-9abf-93ce32d10937",
   "metadata": {
    "execution": {
     "iopub.execute_input": "2025-09-23T04:47:42.034445Z",
     "iopub.status.busy": "2025-09-23T04:47:42.034199Z",
     "iopub.status.idle": "2025-09-23T04:47:42.042556Z",
     "shell.execute_reply": "2025-09-23T04:47:42.041871Z",
     "shell.execute_reply.started": "2025-09-23T04:47:42.034425Z"
    }
   },
   "outputs": [],
   "source": [
    "# Creating bedrooms per household\n",
    "\n",
    "# Computing per postal-code average\n",
    "postal_avg = (\n",
    "    merged.groupby(\"postal_code\")[\"total_bedrooms\"]\n",
    "    .transform(\"mean\")\n",
    ")\n",
    "\n",
    "# Imputing missing total_bedrooms\n",
    "merged[\"total_bedrooms\"] = merged[\"total_bedrooms\"].fillna(postal_avg)\n",
    "\n",
    "# Computing bedrooms per households\n",
    "merged[\"bedrooms per household\"] = merged[\"total_bedrooms\"] / merged[\"households\"]"
   ]
  },
  {
   "cell_type": "code",
   "execution_count": 54,
   "id": "34080ccd-cfab-41e8-8652-bfb723425b94",
   "metadata": {
    "execution": {
     "iopub.execute_input": "2025-09-23T04:57:31.598132Z",
     "iopub.status.busy": "2025-09-23T04:57:31.597867Z",
     "iopub.status.idle": "2025-09-23T04:57:31.613926Z",
     "shell.execute_reply": "2025-09-23T04:57:31.613167Z",
     "shell.execute_reply.started": "2025-09-23T04:57:31.598111Z"
    }
   },
   "outputs": [],
   "source": [
    "# Selecting final feature group columns\n",
    "merged = merged.loc[:, ~merged.columns.duplicated()]\n",
    "\n",
    "neighborhood_features = merged[[\n",
    "    \"primary_key\", \"event_time\",\n",
    "    \"<1h ocean\", \"inland\", \"island\", \"near bay\", \"near ocean\",\n",
    "    \"median house value\", \"median house age\", \"total households\", \"bedrooms per household\"\n",
    "]].drop_duplicates(subset=[\"primary_key\"])"
   ]
  },
  {
   "cell_type": "code",
   "execution_count": 59,
   "id": "ebeb591a-6c24-4738-8f16-68e314f573eb",
   "metadata": {
    "execution": {
     "iopub.execute_input": "2025-09-23T05:02:27.860260Z",
     "iopub.status.busy": "2025-09-23T05:02:27.859964Z",
     "iopub.status.idle": "2025-09-23T05:02:27.864843Z",
     "shell.execute_reply": "2025-09-23T05:02:27.863985Z",
     "shell.execute_reply.started": "2025-09-23T05:02:27.860207Z"
    }
   },
   "outputs": [],
   "source": [
    "# Renaming columns to valid feature names\n",
    "rename_map = {\n",
    "    \"<1h ocean\": \"lt1h_ocean\",\n",
    "    \"inland\": \"inland\",\n",
    "    \"island\": \"island\",\n",
    "    \"near bay\": \"near_bay\",\n",
    "    \"near ocean\": \"near_ocean\",\n",
    "    \"median house value\": \"median_house_value\",\n",
    "    \"median house age\": \"median_house_age\",\n",
    "    \"total households\": \"total_households\",\n",
    "    \"bedrooms per household\": \"bedrooms_per_household\"\n",
    "}\n",
    "\n",
    "neighborhood_features.rename(columns=rename_map, inplace=True)"
   ]
  },
  {
   "cell_type": "code",
   "execution_count": 61,
   "id": "f46fcb4f-8836-4501-9279-f88a364b685b",
   "metadata": {
    "execution": {
     "iopub.execute_input": "2025-09-23T05:02:55.567520Z",
     "iopub.status.busy": "2025-09-23T05:02:55.567255Z",
     "iopub.status.idle": "2025-09-23T05:03:37.637363Z",
     "shell.execute_reply": "2025-09-23T05:03:37.636636Z",
     "shell.execute_reply.started": "2025-09-23T05:02:55.567499Z"
    }
   },
   "outputs": [
    {
     "name": "stdout",
     "output_type": "stream",
     "text": [
      "Waiting for Feature Group Creation\n",
      "Waiting for Feature Group Creation\n",
      "Waiting for Feature Group Creation\n",
      "Waiting for Feature Group Creation\n",
      "Waiting for Feature Group Creation\n",
      "Waiting for Feature Group Creation\n",
      "Waiting for Feature Group Creation\n",
      "Waiting for Feature Group Creation\n",
      "FeatureGroup neighborhood-feature-group successfully created.\n"
     ]
    }
   ],
   "source": [
    "# Creating feature group in SageMaker\n",
    "session = sagemaker.Session()\n",
    "feature_group = FeatureGroup(name=\"neighborhood-feature-group\", sagemaker_session=session)\n",
    "\n",
    "# Converting bool columns to int (0/1)\n",
    "bool_cols = [\"lt1h_ocean\", \"inland\", \"island\", \"near_bay\", \"near_ocean\"]\n",
    "neighborhood_features[bool_cols] = neighborhood_features[bool_cols].astype(int)\n",
    "\n",
    "feature_group.load_feature_definitions(data_frame=neighborhood_features)\n",
    "\n",
    "\n",
    "def wait_for_feature_group_creation_complete(feature_group):\n",
    "    status = feature_group.describe().get(\"FeatureGroupStatus\")\n",
    "    while status == \"Creating\":\n",
    "        print(\"Waiting for Feature Group Creation\")\n",
    "        time.sleep(5)\n",
    "        status = feature_group.describe().get(\"FeatureGroupStatus\")\n",
    "    if status != \"Created\":\n",
    "        raise RuntimeError(f\"Failed to create feature group {feature_group.name}\")\n",
    "    print(f\"FeatureGroup {feature_group.name} successfully created.\")\n",
    "\n",
    "\n",
    "feature_group.create(\n",
    "    s3_uri=f\"s3://{default_s3_bucket_name}/{prefix}\",\n",
    "    record_identifier_name=\"primary_key\",\n",
    "    event_time_feature_name=\"event_time\",\n",
    "    role_arn=role,\n",
    "    enable_online_store=True\n",
    ")\n",
    "\n",
    "# Waiting for feature group creation to complete\n",
    "wait_for_feature_group_creation_complete(feature_group=feature_group)"
   ]
  },
  {
   "cell_type": "code",
   "execution_count": 62,
   "id": "af39f65e-9914-400a-b39a-20d9aca6bf56",
   "metadata": {
    "execution": {
     "iopub.execute_input": "2025-09-23T05:06:02.146110Z",
     "iopub.status.busy": "2025-09-23T05:06:02.145841Z",
     "iopub.status.idle": "2025-09-23T05:06:07.567817Z",
     "shell.execute_reply": "2025-09-23T05:06:07.567066Z",
     "shell.execute_reply.started": "2025-09-23T05:06:02.146088Z"
    }
   },
   "outputs": [
    {
     "data": {
      "text/plain": [
       "IngestionManagerPandas(feature_group_name='neighborhood-feature-group', feature_definitions={'primary_key': {'FeatureName': 'primary_key', 'FeatureType': 'String'}, 'event_time': {'FeatureName': 'event_time', 'FeatureType': 'String'}, 'lt1h_ocean': {'FeatureName': 'lt1h_ocean', 'FeatureType': 'Integral'}, 'inland': {'FeatureName': 'inland', 'FeatureType': 'Integral'}, 'island': {'FeatureName': 'island', 'FeatureType': 'Integral'}, 'near_bay': {'FeatureName': 'near_bay', 'FeatureType': 'Integral'}, 'near_ocean': {'FeatureName': 'near_ocean', 'FeatureType': 'Integral'}, 'median_house_value': {'FeatureName': 'median_house_value', 'FeatureType': 'Fractional'}, 'median_house_age': {'FeatureName': 'median_house_age', 'FeatureType': 'String'}, 'total_households': {'FeatureName': 'total_households', 'FeatureType': 'Integral'}, 'bedrooms_per_household': {'FeatureName': 'bedrooms_per_household', 'FeatureType': 'Fractional'}}, sagemaker_fs_runtime_client_config=<botocore.config.Config object at 0x7f84da85c890>, sagemaker_session=<sagemaker.session.Session object at 0x7f84e0f33ec0>, max_workers=3, max_processes=1, profile_name=None, _async_result=<multiprocess.pool.MapResult object at 0x7f84dcc256a0>, _processing_pool=<pool ProcessPool(ncpus=1)>, _failed_indices=[])"
      ]
     },
     "execution_count": 62,
     "metadata": {},
     "output_type": "execute_result"
    }
   ],
   "source": [
    "# Ingesting data\n",
    "feature_group.ingest(data_frame=neighborhood_features, max_workers=3, wait=True)"
   ]
  },
  {
   "cell_type": "code",
   "execution_count": 85,
   "id": "6c81b1f6-1ba1-4620-aa75-87fd4177f592",
   "metadata": {
    "execution": {
     "iopub.execute_input": "2025-09-23T06:08:05.701517Z",
     "iopub.status.busy": "2025-09-23T06:08:05.701256Z",
     "iopub.status.idle": "2025-09-23T06:08:11.191496Z",
     "shell.execute_reply": "2025-09-23T06:08:11.190756Z",
     "shell.execute_reply.started": "2025-09-23T06:08:05.701497Z"
    }
   },
   "outputs": [
    {
     "name": "stdout",
     "output_type": "stream",
     "text": [
      "Athena table: neighborhood_feature_group_1758603775\n",
      "Running query: \n",
      "SELECT *\n",
      "FROM \"sagemaker_featurestore\".\"neighborhood_feature_group_1758603775\"\n",
      "WHERE primary_key IN ('Brooktree', 'Fisherman''s Wharf', 'Los Osos')\n",
      "\n",
      "         primary_key  ... is_deleted\n",
      "0  Fisherman's Wharf  ...      False\n",
      "1          Brooktree  ...      False\n",
      "2           Los Osos  ...      False\n",
      "\n",
      "[3 rows x 14 columns]\n"
     ]
    }
   ],
   "source": [
    "# Creating queries\n",
    "neighborhood_fg = FeatureGroup(name=\"neighborhood-feature-group\", sagemaker_session=session)\n",
    "\n",
    "# Creating an AthenaQuery object for this feature group\n",
    "neighborhood_query = neighborhood_fg.athena_query()\n",
    "neighborhood_table = neighborhood_query.table_name\n",
    "print(\"Athena table:\", neighborhood_table)\n",
    "\n",
    "# Building query string for the neighborhoods\n",
    "query_string = f\"\"\"\n",
    "SELECT *\n",
    "FROM \"{neighborhood_query.database}\".\"{neighborhood_query.table_name}\"\n",
    "WHERE primary_key IN ('Brooktree', 'Fisherman''s Wharf', 'Los Osos')\n",
    "\"\"\"\n",
    "\n",
    "print(\"Running query:\", query_string)\n",
    "\n",
    "# Running the Athena query and writing results to S3\n",
    "neighborhood_query.run(\n",
    "    query_string=query_string,\n",
    "    output_location=f\"s3://{default_s3_bucket_name}/{prefix}/query_results/\"\n",
    ")\n",
    "\n",
    "# Wait for query to complete\n",
    "neighborhood_query.wait()\n",
    "\n",
    "# Loading results into a Pandas DataFrame\n",
    "neighborhood_df = neighborhood_query.as_dataframe()\n",
    "print(neighborhood_df)"
   ]
  }
 ],
 "metadata": {
  "kernelspec": {
   "display_name": "Python 3 (ipykernel)",
   "language": "python",
   "name": "python3"
  },
  "language_info": {
   "codemirror_mode": {
    "name": "ipython",
    "version": 3
   },
   "file_extension": ".py",
   "mimetype": "text/x-python",
   "name": "python",
   "nbconvert_exporter": "python",
   "pygments_lexer": "ipython3",
   "version": "3.12.9"
  }
 },
 "nbformat": 4,
 "nbformat_minor": 5
}
