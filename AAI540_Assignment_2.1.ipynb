{
 "cells": [
  {
   "cell_type": "markdown",
   "id": "e924d416-18ed-417e-8848-3e359e8f0595",
   "metadata": {},
   "source": [
    "**Verifying Assignment 2 S3 Bucket Creation**"
   ]
  },
  {
   "cell_type": "code",
   "execution_count": 7,
   "id": "62794dcf-987f-43d2-b57f-c8bd3cbf68c3",
   "metadata": {
    "execution": {
     "iopub.execute_input": "2025-09-16T02:17:15.867109Z",
     "iopub.status.busy": "2025-09-16T02:17:15.866852Z",
     "iopub.status.idle": "2025-09-16T02:17:16.118964Z",
     "shell.execute_reply": "2025-09-16T02:17:16.118268Z",
     "shell.execute_reply.started": "2025-09-16T02:17:15.867089Z"
    }
   },
   "outputs": [],
   "source": [
    "import boto3\n",
    "import sagemaker\n",
    "\n",
    "# Checking that bucket has been created successfully\n",
    "session = boto3.session.Session()\n",
    "region = session.region_name\n",
    "sagemaker_session = sagemaker.Session()\n",
    "bucket = \"spaz-aai504-assignment2-bucket\"\n",
    "\n",
    "s3 = boto3.Session().client(service_name=\"s3\", region_name=region)"
   ]
  },
  {
   "cell_type": "code",
   "execution_count": 8,
   "id": "55140092-101b-410d-866a-a31b437c3e34",
   "metadata": {
    "execution": {
     "iopub.execute_input": "2025-09-16T02:17:17.293823Z",
     "iopub.status.busy": "2025-09-16T02:17:17.293557Z",
     "iopub.status.idle": "2025-09-16T02:17:17.338853Z",
     "shell.execute_reply": "2025-09-16T02:17:17.337863Z",
     "shell.execute_reply.started": "2025-09-16T02:17:17.293802Z"
    }
   },
   "outputs": [
    {
     "name": "stdout",
     "output_type": "stream",
     "text": [
      "{'ResponseMetadata': {'RequestId': 'XGNANP7GJ1AS0FWS', 'HostId': 'xc51Uu8Mc1uH/06UocHmQJLt/4N/gXVdGs/dx2gYU66pahGULwYZMFiMfqjJd8A7peH5oTfBBtpy52NMgenqfhD+twaysP23gUMbM+RpbVk=', 'HTTPStatusCode': 200, 'HTTPHeaders': {'x-amz-id-2': 'xc51Uu8Mc1uH/06UocHmQJLt/4N/gXVdGs/dx2gYU66pahGULwYZMFiMfqjJd8A7peH5oTfBBtpy52NMgenqfhD+twaysP23gUMbM+RpbVk=', 'x-amz-request-id': 'XGNANP7GJ1AS0FWS', 'date': 'Tue, 16 Sep 2025 02:17:18 GMT', 'x-amz-bucket-region': 'us-east-1', 'x-amz-access-point-alias': 'false', 'content-type': 'application/xml', 'transfer-encoding': 'chunked', 'server': 'AmazonS3'}, 'RetryAttempts': 0}, 'BucketRegion': 'us-east-1', 'AccessPointAlias': False}\n"
     ]
    }
   ],
   "source": [
    "from botocore.client import ClientError\n",
    "\n",
    "response = None\n",
    "\n",
    "try:\n",
    "    response = s3.head_bucket(Bucket=bucket)\n",
    "    print(response)\n",
    "    setup_s3_bucket_passed = True\n",
    "except ClientError as e:\n",
    "    print(\"[ERROR] Cannot find bucket {} in {} due to {}.\".format(bucket, response, e))"
   ]
  },
  {
   "cell_type": "code",
   "execution_count": 9,
   "id": "d20ce2a0-d27d-4b2b-bc88-ea9810bffbda",
   "metadata": {
    "execution": {
     "iopub.execute_input": "2025-09-16T02:19:29.504560Z",
     "iopub.status.busy": "2025-09-16T02:19:29.504293Z",
     "iopub.status.idle": "2025-09-16T02:19:29.570456Z",
     "shell.execute_reply": "2025-09-16T02:19:29.569662Z",
     "shell.execute_reply.started": "2025-09-16T02:19:29.504539Z"
    }
   },
   "outputs": [
    {
     "name": "stdout",
     "output_type": "stream",
     "text": [
      "Found data files in bucket:\n",
      " - dataset.csv (20118244 bytes)\n"
     ]
    }
   ],
   "source": [
    "# Listing first 10 objects to confirm data presence\n",
    "response = s3.list_objects_v2(Bucket=bucket, Prefix=\"\", MaxKeys=10)\n",
    "if \"Contents\" in response:\n",
    "    print(\"Found data files in bucket:\")\n",
    "    for obj in response[\"Contents\"]:\n",
    "        print(f\" - {obj['Key']} ({obj['Size']} bytes)\")\n",
    "else:\n",
    "    print(\"No objects found under that prefix.\")"
   ]
  },
  {
   "cell_type": "markdown",
   "id": "eb9350d0-0363-4fb1-9490-2dae74910081",
   "metadata": {},
   "source": [
    "**Creating Athena Database**"
   ]
  },
  {
   "cell_type": "code",
   "execution_count": 10,
   "id": "50c55509-d443-43a7-8eec-16f1a400e531",
   "metadata": {
    "execution": {
     "iopub.execute_input": "2025-09-16T02:22:42.668632Z",
     "iopub.status.busy": "2025-09-16T02:22:42.668369Z",
     "iopub.status.idle": "2025-09-16T02:22:42.671669Z",
     "shell.execute_reply": "2025-09-16T02:22:42.670906Z",
     "shell.execute_reply.started": "2025-09-16T02:22:42.668610Z"
    }
   },
   "outputs": [],
   "source": [
    "from pyathena import connect\n",
    "\n",
    "database_name = \"aai540_assignment2_db\""
   ]
  },
  {
   "cell_type": "code",
   "execution_count": 11,
   "id": "04504838-9b03-4580-aa4c-bf004832670a",
   "metadata": {
    "execution": {
     "iopub.execute_input": "2025-09-16T02:23:26.677402Z",
     "iopub.status.busy": "2025-09-16T02:23:26.677139Z",
     "iopub.status.idle": "2025-09-16T02:23:26.680647Z",
     "shell.execute_reply": "2025-09-16T02:23:26.679803Z",
     "shell.execute_reply.started": "2025-09-16T02:23:26.677381Z"
    }
   },
   "outputs": [],
   "source": [
    "# Setting S3 staging directory\n",
    "s3_staging_dir = \"s3://{0}/athena/staging\".format(bucket)"
   ]
  },
  {
   "cell_type": "code",
   "execution_count": 12,
   "id": "4ffb9c6a-b222-4d21-a783-85249f1725cc",
   "metadata": {
    "execution": {
     "iopub.execute_input": "2025-09-16T02:23:55.857087Z",
     "iopub.status.busy": "2025-09-16T02:23:55.856817Z",
     "iopub.status.idle": "2025-09-16T02:23:55.935270Z",
     "shell.execute_reply": "2025-09-16T02:23:55.934452Z",
     "shell.execute_reply.started": "2025-09-16T02:23:55.857064Z"
    }
   },
   "outputs": [],
   "source": [
    "conn = connect(region_name=region, s3_staging_dir=s3_staging_dir)"
   ]
  },
  {
   "cell_type": "code",
   "execution_count": 13,
   "id": "df0f24b5-9cf5-4ad7-a83a-cdd4f835bb56",
   "metadata": {
    "execution": {
     "iopub.execute_input": "2025-09-16T02:24:23.415934Z",
     "iopub.status.busy": "2025-09-16T02:24:23.415319Z",
     "iopub.status.idle": "2025-09-16T02:24:23.420199Z",
     "shell.execute_reply": "2025-09-16T02:24:23.419459Z",
     "shell.execute_reply.started": "2025-09-16T02:24:23.415902Z"
    }
   },
   "outputs": [
    {
     "name": "stdout",
     "output_type": "stream",
     "text": [
      "CREATE DATABASE IF NOT EXISTS aai540_assignment2_db\n"
     ]
    }
   ],
   "source": [
    "statement = \"CREATE DATABASE IF NOT EXISTS {}\".format(database_name)\n",
    "print(statement)"
   ]
  },
  {
   "cell_type": "code",
   "execution_count": 15,
   "id": "c84813e0-070c-4c69-8bce-a5a64626c4e6",
   "metadata": {
    "execution": {
     "iopub.execute_input": "2025-09-16T02:24:46.493246Z",
     "iopub.status.busy": "2025-09-16T02:24:46.492860Z",
     "iopub.status.idle": "2025-09-16T02:24:48.014692Z",
     "shell.execute_reply": "2025-09-16T02:24:48.014023Z",
     "shell.execute_reply.started": "2025-09-16T02:24:46.493213Z"
    }
   },
   "outputs": [
    {
     "name": "stderr",
     "output_type": "stream",
     "text": [
      "/tmp/ipykernel_4655/3803073958.py:3: UserWarning: pandas only supports SQLAlchemy connectable (engine/connection) or database string URI or sqlite3 DBAPI2 connection. Other DBAPI2 objects are not tested. Please consider using SQLAlchemy.\n",
      "  pd.read_sql(statement, conn)\n"
     ]
    },
    {
     "data": {
      "text/html": [
       "<div>\n",
       "<style scoped>\n",
       "    .dataframe tbody tr th:only-of-type {\n",
       "        vertical-align: middle;\n",
       "    }\n",
       "\n",
       "    .dataframe tbody tr th {\n",
       "        vertical-align: top;\n",
       "    }\n",
       "\n",
       "    .dataframe thead th {\n",
       "        text-align: right;\n",
       "    }\n",
       "</style>\n",
       "<table border=\"1\" class=\"dataframe\">\n",
       "  <thead>\n",
       "    <tr style=\"text-align: right;\">\n",
       "      <th></th>\n",
       "    </tr>\n",
       "  </thead>\n",
       "  <tbody>\n",
       "  </tbody>\n",
       "</table>\n",
       "</div>"
      ],
      "text/plain": [
       "Empty DataFrame\n",
       "Columns: []\n",
       "Index: []"
      ]
     },
     "execution_count": 15,
     "metadata": {},
     "output_type": "execute_result"
    }
   ],
   "source": [
    "import pandas as pd\n",
    "\n",
    "pd.read_sql(statement, conn)"
   ]
  },
  {
   "cell_type": "code",
   "execution_count": 16,
   "id": "38c556b2-5d5f-43db-90ae-22699a543d95",
   "metadata": {
    "execution": {
     "iopub.execute_input": "2025-09-16T02:25:44.027363Z",
     "iopub.status.busy": "2025-09-16T02:25:44.026885Z",
     "iopub.status.idle": "2025-09-16T02:25:45.286467Z",
     "shell.execute_reply": "2025-09-16T02:25:45.285571Z",
     "shell.execute_reply.started": "2025-09-16T02:25:44.027282Z"
    }
   },
   "outputs": [
    {
     "name": "stderr",
     "output_type": "stream",
     "text": [
      "/tmp/ipykernel_4655/328402195.py:4: UserWarning: pandas only supports SQLAlchemy connectable (engine/connection) or database string URI or sqlite3 DBAPI2 connection. Other DBAPI2 objects are not tested. Please consider using SQLAlchemy.\n",
      "  df_show = pd.read_sql(statement, conn)\n"
     ]
    },
    {
     "data": {
      "text/html": [
       "<div>\n",
       "<style scoped>\n",
       "    .dataframe tbody tr th:only-of-type {\n",
       "        vertical-align: middle;\n",
       "    }\n",
       "\n",
       "    .dataframe tbody tr th {\n",
       "        vertical-align: top;\n",
       "    }\n",
       "\n",
       "    .dataframe thead th {\n",
       "        text-align: right;\n",
       "    }\n",
       "</style>\n",
       "<table border=\"1\" class=\"dataframe\">\n",
       "  <thead>\n",
       "    <tr style=\"text-align: right;\">\n",
       "      <th></th>\n",
       "      <th>database_name</th>\n",
       "    </tr>\n",
       "  </thead>\n",
       "  <tbody>\n",
       "    <tr>\n",
       "      <th>0</th>\n",
       "      <td>aai540_assignment2_db</td>\n",
       "    </tr>\n",
       "    <tr>\n",
       "      <th>1</th>\n",
       "      <td>default</td>\n",
       "    </tr>\n",
       "    <tr>\n",
       "      <th>2</th>\n",
       "      <td>dsoaws</td>\n",
       "    </tr>\n",
       "  </tbody>\n",
       "</table>\n",
       "</div>"
      ],
      "text/plain": [
       "           database_name\n",
       "0  aai540_assignment2_db\n",
       "1                default\n",
       "2                 dsoaws"
      ]
     },
     "execution_count": 16,
     "metadata": {},
     "output_type": "execute_result"
    }
   ],
   "source": [
    "# Verifying database has been created successfully\n",
    "statement = \"SHOW DATABASES\"\n",
    "\n",
    "df_show = pd.read_sql(statement, conn)\n",
    "df_show.head(5)"
   ]
  },
  {
   "cell_type": "code",
   "execution_count": 17,
   "id": "d28ac109-28a6-48e2-8e4f-f8b475f18787",
   "metadata": {
    "execution": {
     "iopub.execute_input": "2025-09-16T02:44:42.925272Z",
     "iopub.status.busy": "2025-09-16T02:44:42.925014Z",
     "iopub.status.idle": "2025-09-16T02:44:42.928283Z",
     "shell.execute_reply": "2025-09-16T02:44:42.927560Z",
     "shell.execute_reply.started": "2025-09-16T02:44:42.925251Z"
    }
   },
   "outputs": [],
   "source": [
    "# Setting Athena parameters\n",
    "table_name = \"aai540_assignment2_table\""
   ]
  },
  {
   "cell_type": "code",
   "execution_count": 41,
   "id": "fca12ae3-b9dd-4a4c-bd23-eb3393b82002",
   "metadata": {
    "execution": {
     "iopub.execute_input": "2025-09-16T03:55:28.811318Z",
     "iopub.status.busy": "2025-09-16T03:55:28.811027Z",
     "iopub.status.idle": "2025-09-16T03:55:28.818810Z",
     "shell.execute_reply": "2025-09-16T03:55:28.817840Z",
     "shell.execute_reply.started": "2025-09-16T03:55:28.811295Z"
    }
   },
   "outputs": [
    {
     "name": "stdout",
     "output_type": "stream",
     "text": [
      "CREATE EXTERNAL TABLE IF NOT EXISTS aai540_assignment2_db.aai540_assignment2_table(\n",
      "    unnamed__0 int,\n",
      "    track_id string,\n",
      "    artists string,\n",
      "    album_name string,\n",
      "    track_name string,\n",
      "    popularity int,\n",
      "    duration_ms bigint,\n",
      "    explicit boolean,\n",
      "    danceability double,\n",
      "    energy double,\n",
      "    key int,\n",
      "    loudness double,\n",
      "    mode int,\n",
      "    speechiness double,\n",
      "    acousticness double,\n",
      "    instrumentalness double,\n",
      "    liveness double,\n",
      "    valence double,\n",
      "    tempo double,\n",
      "    time_signature int,\n",
      "    track_genre string\n",
      ")\n",
      "ROW FORMAT SERDE 'org.apache.hadoop.hive.serde2.lazy.LazySimpleSerDe'\n",
      "WITH SERDEPROPERTIES (\n",
      "    'serialization.format' = ',',\n",
      "    'field.delim' = ','\n",
      ")\n",
      "LOCATION 's3://spaz-aai504-assignment2-bucket/'\n",
      "TBLPROPERTIES (\n",
      "    'skip.header.line.count'='1'\n",
      ")\n",
      "\n"
     ]
    }
   ],
   "source": [
    "# Creating Athena table\n",
    "s3_private_path_assignment2 = \"s3://{}/aai_assignment2/dataset\"\n",
    "statement = f\"\"\"CREATE EXTERNAL TABLE IF NOT EXISTS {database_name}.{table_name}(\n",
    "    unnamed__0 int,\n",
    "    track_id string,\n",
    "    artists string,\n",
    "    album_name string,\n",
    "    track_name string,\n",
    "    popularity int,\n",
    "    duration_ms bigint,\n",
    "    explicit boolean,\n",
    "    danceability double,\n",
    "    energy double,\n",
    "    key int,\n",
    "    loudness double,\n",
    "    mode int,\n",
    "    speechiness double,\n",
    "    acousticness double,\n",
    "    instrumentalness double,\n",
    "    liveness double,\n",
    "    valence double,\n",
    "    tempo double,\n",
    "    time_signature int,\n",
    "    track_genre string\n",
    ")\n",
    "ROW FORMAT SERDE 'org.apache.hadoop.hive.serde2.lazy.LazySimpleSerDe'\n",
    "WITH SERDEPROPERTIES (\n",
    "    'serialization.format' = ',',\n",
    "    'field.delim' = ','\n",
    ")\n",
    "LOCATION 's3://{bucket}/'\n",
    "TBLPROPERTIES (\n",
    "    'skip.header.line.count'='1'\n",
    ")\n",
    "\"\"\"\n",
    "\n",
    "print(statement)"
   ]
  },
  {
   "cell_type": "code",
   "execution_count": 42,
   "id": "a3bd4423-b06c-4315-9585-84a74939948a",
   "metadata": {
    "execution": {
     "iopub.execute_input": "2025-09-16T03:55:35.498732Z",
     "iopub.status.busy": "2025-09-16T03:55:35.498426Z",
     "iopub.status.idle": "2025-09-16T03:55:36.718994Z",
     "shell.execute_reply": "2025-09-16T03:55:36.718247Z",
     "shell.execute_reply.started": "2025-09-16T03:55:35.498684Z"
    }
   },
   "outputs": [
    {
     "name": "stderr",
     "output_type": "stream",
     "text": [
      "/tmp/ipykernel_4655/3728654170.py:2: UserWarning: pandas only supports SQLAlchemy connectable (engine/connection) or database string URI or sqlite3 DBAPI2 connection. Other DBAPI2 objects are not tested. Please consider using SQLAlchemy.\n",
      "  pd.read_sql(statement, conn)\n"
     ]
    },
    {
     "data": {
      "text/html": [
       "<div>\n",
       "<style scoped>\n",
       "    .dataframe tbody tr th:only-of-type {\n",
       "        vertical-align: middle;\n",
       "    }\n",
       "\n",
       "    .dataframe tbody tr th {\n",
       "        vertical-align: top;\n",
       "    }\n",
       "\n",
       "    .dataframe thead th {\n",
       "        text-align: right;\n",
       "    }\n",
       "</style>\n",
       "<table border=\"1\" class=\"dataframe\">\n",
       "  <thead>\n",
       "    <tr style=\"text-align: right;\">\n",
       "      <th></th>\n",
       "    </tr>\n",
       "  </thead>\n",
       "  <tbody>\n",
       "  </tbody>\n",
       "</table>\n",
       "</div>"
      ],
      "text/plain": [
       "Empty DataFrame\n",
       "Columns: []\n",
       "Index: []"
      ]
     },
     "execution_count": 42,
     "metadata": {},
     "output_type": "execute_result"
    }
   ],
   "source": [
    "# Creating table in Athena\n",
    "pd.read_sql(statement, conn)"
   ]
  },
  {
   "cell_type": "code",
   "execution_count": 37,
   "id": "bbfdaf0a-f961-4055-aa2e-a996aa62d162",
   "metadata": {
    "execution": {
     "iopub.execute_input": "2025-09-16T03:40:33.850015Z",
     "iopub.status.busy": "2025-09-16T03:40:33.849733Z",
     "iopub.status.idle": "2025-09-16T03:40:35.101292Z",
     "shell.execute_reply": "2025-09-16T03:40:35.100505Z",
     "shell.execute_reply.started": "2025-09-16T03:40:33.849993Z"
    }
   },
   "outputs": [
    {
     "name": "stderr",
     "output_type": "stream",
     "text": [
      "/tmp/ipykernel_4655/2201015668.py:3: UserWarning: pandas only supports SQLAlchemy connectable (engine/connection) or database string URI or sqlite3 DBAPI2 connection. Other DBAPI2 objects are not tested. Please consider using SQLAlchemy.\n",
      "  df_show = pd.read_sql(statement, conn)\n"
     ]
    },
    {
     "data": {
      "text/html": [
       "<div>\n",
       "<style scoped>\n",
       "    .dataframe tbody tr th:only-of-type {\n",
       "        vertical-align: middle;\n",
       "    }\n",
       "\n",
       "    .dataframe tbody tr th {\n",
       "        vertical-align: top;\n",
       "    }\n",
       "\n",
       "    .dataframe thead th {\n",
       "        text-align: right;\n",
       "    }\n",
       "</style>\n",
       "<table border=\"1\" class=\"dataframe\">\n",
       "  <thead>\n",
       "    <tr style=\"text-align: right;\">\n",
       "      <th></th>\n",
       "      <th>tab_name</th>\n",
       "    </tr>\n",
       "  </thead>\n",
       "  <tbody>\n",
       "    <tr>\n",
       "      <th>0</th>\n",
       "      <td>aai540_assignment2_table</td>\n",
       "    </tr>\n",
       "  </tbody>\n",
       "</table>\n",
       "</div>"
      ],
      "text/plain": [
       "                   tab_name\n",
       "0  aai540_assignment2_table"
      ]
     },
     "execution_count": 37,
     "metadata": {},
     "output_type": "execute_result"
    }
   ],
   "source": [
    "statement = \"SHOW TABLES in {}\".format(database_name)\n",
    "\n",
    "df_show = pd.read_sql(statement, conn)\n",
    "df_show.head(5)"
   ]
  },
  {
   "cell_type": "code",
   "execution_count": 43,
   "id": "075db97a-8330-4df2-9e03-4cf6ed38e1f4",
   "metadata": {
    "execution": {
     "iopub.execute_input": "2025-09-16T03:55:46.338618Z",
     "iopub.status.busy": "2025-09-16T03:55:46.338349Z",
     "iopub.status.idle": "2025-09-16T03:55:58.765662Z",
     "shell.execute_reply": "2025-09-16T03:55:58.764797Z",
     "shell.execute_reply.started": "2025-09-16T03:55:46.338597Z"
    }
   },
   "outputs": [
    {
     "name": "stderr",
     "output_type": "stream",
     "text": [
      "/tmp/ipykernel_4655/1306474280.py:9: UserWarning: pandas only supports SQLAlchemy connectable (engine/connection) or database string URI or sqlite3 DBAPI2 connection. Other DBAPI2 objects are not tested. Please consider using SQLAlchemy.\n",
      "  df = pd.read_sql(statement, conn)\n"
     ]
    },
    {
     "name": "stdout",
     "output_type": "stream",
     "text": [
      "                             track_name  energy\n",
      "0                                Hunger   0.632\n",
      "1                       Hold On - Remix   0.780\n",
      "2      Falling in Love at a Coffee Shop   0.561\n",
      "3                               Vol. 4\"   0.717\n",
      "4                               Vol. 3\"   0.678\n",
      "...                                 ...     ...\n",
      "81862        Stay (You Are Good) - Live   0.762\n",
      "81863       At The Cross (Love Ran Red)   0.531\n",
      "81864             Your Love Never Fails   0.860\n",
      "81865       How Can I Keep From Singing   0.687\n",
      "81866                           Friends   0.506\n",
      "\n",
      "[81867 rows x 2 columns]\n"
     ]
    }
   ],
   "source": [
    "# Running Sample SQL Query\n",
    "statement = \"\"\"\n",
    "SELECT\n",
    "track_name,\n",
    "energy\n",
    "FROM {}.{}\n",
    "WHERE energy >= 0.5\n",
    "\"\"\".format(database_name, table_name)\n",
    "df = pd.read_sql(statement, conn)\n",
    "print(df)"
   ]
  },
  {
   "cell_type": "markdown",
   "id": "67ae91dd-c082-48cb-b5f8-273a41e5ce1a",
   "metadata": {},
   "source": [
    "**Running Queries with SQL and Pandas**"
   ]
  },
  {
   "cell_type": "code",
   "execution_count": 60,
   "id": "6e973e36-ca95-49cd-8ce1-b9aa1b06623c",
   "metadata": {
    "execution": {
     "iopub.execute_input": "2025-09-16T04:41:35.646961Z",
     "iopub.status.busy": "2025-09-16T04:41:35.646331Z",
     "iopub.status.idle": "2025-09-16T04:41:38.009934Z",
     "shell.execute_reply": "2025-09-16T04:41:38.009191Z",
     "shell.execute_reply.started": "2025-09-16T04:41:35.646673Z"
    }
   },
   "outputs": [
    {
     "name": "stderr",
     "output_type": "stream",
     "text": [
      "/tmp/ipykernel_4655/521511105.py:8: UserWarning: pandas only supports SQLAlchemy connectable (engine/connection) or database string URI or sqlite3 DBAPI2 connection. Other DBAPI2 objects are not tested. Please consider using SQLAlchemy.\n",
      "  df = pd.read_sql(query_1, conn)\n"
     ]
    },
    {
     "name": "stdout",
     "output_type": "stream",
     "text": [
      "                artists                 track_name  popularity\n",
      "0  Sam Smith;Kim Petras  Unholy (feat. Kim Petras)         100\n",
      "1     Charlie Brown Jr.               Prazo Longo\"         333\n",
      "2          Smyang Piano                    Vol. 4\"      134340\n",
      "3  Sam Smith;Kim Petras  Unholy (feat. Kim Petras)         100\n"
     ]
    }
   ],
   "source": [
    "# 1. List artist, track_name, and popularity for songs that have a popularity greater than or equal to 99\n",
    "query_1 = \"\"\"\n",
    "SELECT artists, track_name, popularity\n",
    "FROM {}.{}\n",
    "WHERE popularity >= 99\n",
    "\"\"\".format(database_name, table_name)\n",
    "\n",
    "df = pd.read_sql(query_1, conn)\n",
    "print(df)"
   ]
  },
  {
   "cell_type": "code",
   "execution_count": 61,
   "id": "71fa686f-9a7e-4124-b773-505530aac374",
   "metadata": {
    "execution": {
     "iopub.execute_input": "2025-09-16T04:42:37.516970Z",
     "iopub.status.busy": "2025-09-16T04:42:37.516652Z",
     "iopub.status.idle": "2025-09-16T04:42:39.790749Z",
     "shell.execute_reply": "2025-09-16T04:42:39.789846Z",
     "shell.execute_reply.started": "2025-09-16T04:42:37.516947Z"
    }
   },
   "outputs": [
    {
     "name": "stderr",
     "output_type": "stream",
     "text": [
      "/tmp/ipykernel_4655/3056184965.py:9: UserWarning: pandas only supports SQLAlchemy connectable (engine/connection) or database string URI or sqlite3 DBAPI2 connection. Other DBAPI2 objects are not tested. Please consider using SQLAlchemy.\n",
      "  df = pd.read_sql(query_2, conn)\n"
     ]
    },
    {
     "name": "stdout",
     "output_type": "stream",
     "text": [
      "             artists  avg_popularity\n",
      "0       Harry Styles            92.0\n",
      "1  Rema;Selena Gomez            92.0\n"
     ]
    }
   ],
   "source": [
    "# 2. List artists with an average popularity of 92\n",
    "query_2 = \"\"\"\n",
    "SELECT artists, AVG(popularity) AS avg_popularity\n",
    "FROM {}.{}\n",
    "GROUP BY artists\n",
    "HAVING AVG(popularity) = 92\n",
    "\"\"\".format(database_name, table_name)\n",
    "\n",
    "df = pd.read_sql(query_2, conn)\n",
    "print(df)"
   ]
  },
  {
   "cell_type": "code",
   "execution_count": 62,
   "id": "5de05551-8c13-4fb8-8091-64e625ec6cda",
   "metadata": {
    "execution": {
     "iopub.execute_input": "2025-09-16T04:48:13.256679Z",
     "iopub.status.busy": "2025-09-16T04:48:13.256377Z",
     "iopub.status.idle": "2025-09-16T04:48:15.576700Z",
     "shell.execute_reply": "2025-09-16T04:48:15.575902Z",
     "shell.execute_reply.started": "2025-09-16T04:48:13.256657Z"
    }
   },
   "outputs": [
    {
     "name": "stderr",
     "output_type": "stream",
     "text": [
      "/tmp/ipykernel_4655/3702353173.py:10: UserWarning: pandas only supports SQLAlchemy connectable (engine/connection) or database string URI or sqlite3 DBAPI2 connection. Other DBAPI2 objects are not tested. Please consider using SQLAlchemy.\n",
      "  df = pd.read_sql(query_3, conn)\n"
     ]
    },
    {
     "name": "stdout",
     "output_type": "stream",
     "text": [
      "  track_genre  avg_energy\n",
      "0       0.797   1174026.0\n",
      "1       0.556    691306.0\n",
      "2      0.0371    629420.0\n",
      "3      0.0359    614791.0\n",
      "4       0.492    542000.0\n",
      "5        0.45    538160.0\n",
      "6       0.914    531293.0\n",
      "7      0.0427    526946.0\n",
      "8      0.0761    502786.0\n",
      "9      0.0346    500088.0\n"
     ]
    }
   ],
   "source": [
    "#3. List the Top 10 genres with the highest average energy\n",
    "query_3 = \"\"\"\n",
    "SELECT track_genre, AVG(energy) AS avg_energy\n",
    "FROM {}.{}\n",
    "GROUP BY track_genre\n",
    "ORDER BY avg_energy DESC\n",
    "LIMIT 10\n",
    "\"\"\".format(database_name, table_name)\n",
    "\n",
    "df = pd.read_sql(query_3, conn)\n",
    "print(df)"
   ]
  },
  {
   "cell_type": "code",
   "execution_count": 64,
   "id": "d329e0ea-b9a6-4790-9be5-7c7228ed5166",
   "metadata": {
    "execution": {
     "iopub.execute_input": "2025-09-16T04:49:34.686897Z",
     "iopub.status.busy": "2025-09-16T04:49:34.686558Z",
     "iopub.status.idle": "2025-09-16T04:49:35.913844Z",
     "shell.execute_reply": "2025-09-16T04:49:35.913116Z",
     "shell.execute_reply.started": "2025-09-16T04:49:34.686873Z"
    }
   },
   "outputs": [
    {
     "name": "stderr",
     "output_type": "stream",
     "text": [
      "/tmp/ipykernel_4655/730192103.py:8: UserWarning: pandas only supports SQLAlchemy connectable (engine/connection) or database string URI or sqlite3 DBAPI2 connection. Other DBAPI2 objects are not tested. Please consider using SQLAlchemy.\n",
      "  df = pd.read_sql(query_4, conn)\n"
     ]
    },
    {
     "name": "stdout",
     "output_type": "stream",
     "text": [
      "   bad_bunny_tracks\n",
      "0               416\n"
     ]
    }
   ],
   "source": [
    "#4. How many tracks is Bad Bunny on?\n",
    "query_4 = \"\"\"\n",
    "SELECT COUNT(*) AS bad_bunny_tracks\n",
    "FROM {}.{}\n",
    "WHERE LOWER(artists) LIKE '%bad bunny%'\n",
    "\"\"\".format(database_name, table_name)\n",
    "\n",
    "df = pd.read_sql(query_4, conn)\n",
    "print(df)"
   ]
  },
  {
   "cell_type": "code",
   "execution_count": 65,
   "id": "f3dd36c2-fab1-4488-a75f-72ec2cd9a174",
   "metadata": {
    "execution": {
     "iopub.execute_input": "2025-09-16T04:50:43.809004Z",
     "iopub.status.busy": "2025-09-16T04:50:43.808734Z",
     "iopub.status.idle": "2025-09-16T04:50:46.058467Z",
     "shell.execute_reply": "2025-09-16T04:50:46.057713Z",
     "shell.execute_reply.started": "2025-09-16T04:50:43.808983Z"
    }
   },
   "outputs": [
    {
     "name": "stderr",
     "output_type": "stream",
     "text": [
      "/tmp/ipykernel_4655/1320050212.py:10: UserWarning: pandas only supports SQLAlchemy connectable (engine/connection) or database string URI or sqlite3 DBAPI2 connection. Other DBAPI2 objects are not tested. Please consider using SQLAlchemy.\n",
      "  df = pd.read_sql(query_5, conn)\n"
     ]
    },
    {
     "name": "stdout",
     "output_type": "stream",
     "text": [
      "  track_genre  max_popularity\n",
      "0           4          134340\n",
      "1       dance             100\n",
      "2         pop             100\n",
      "3      latino              98\n",
      "4      reggae              98\n",
      "5         edm              98\n",
      "6       latin              98\n",
      "7   reggaeton              98\n",
      "8        rock              96\n",
      "9       piano              96\n"
     ]
    }
   ],
   "source": [
    "#5. Show the top 10 genres in terms of popularity, sorted by their most popular track\n",
    "query_5 = \"\"\"\n",
    "SELECT track_genre, MAX(popularity) AS max_popularity\n",
    "FROM {}.{}\n",
    "GROUP BY track_genre\n",
    "ORDER BY max_popularity DESC\n",
    "LIMIT 10\n",
    "\"\"\".format(database_name, table_name)\n",
    "\n",
    "df = pd.read_sql(query_5, conn)\n",
    "print(df)"
   ]
  },
  {
   "cell_type": "code",
   "execution_count": 66,
   "id": "acaa259d-a4f9-44cd-896c-c90ec8f1df6b",
   "metadata": {
    "execution": {
     "iopub.execute_input": "2025-09-16T05:07:20.917303Z",
     "iopub.status.busy": "2025-09-16T05:07:20.917034Z",
     "iopub.status.idle": "2025-09-16T05:07:20.923436Z",
     "shell.execute_reply": "2025-09-16T05:07:20.922226Z",
     "shell.execute_reply.started": "2025-09-16T05:07:20.917281Z"
    }
   },
   "outputs": [
    {
     "data": {
      "text/html": [
       "\n",
       "<p><b>Shutting down your kernel for this notebook to release resources.</b></p>\n",
       "<button class=\"sm-command-button\" data-commandlinker-command=\"kernelmenu:shutdown\" style=\"display:none;\">Shutdown Kernel</button>\n",
       "        \n",
       "<script>\n",
       "try {\n",
       "    els = document.getElementsByClassName(\"sm-command-button\");\n",
       "    els[0].click();\n",
       "}\n",
       "catch(err) {\n",
       "    // NoOp\n",
       "}    \n",
       "</script>\n"
      ],
      "text/plain": [
       "<IPython.core.display.HTML object>"
      ]
     },
     "metadata": {},
     "output_type": "display_data"
    },
    {
     "name": "stderr",
     "output_type": "stream",
     "text": [
      "*** SIGTERM received at time=1757999243 on cpu 1 ***\n",
      "PC: @     0x7fd871fbbe2e  (unknown)  epoll_wait\n",
      "    @     0x7fd812d4eb0d         64  absl::lts_20240722::AbslFailureSignalHandler()\n",
      "    @     0x7fd871ed8520  (unknown)  (unknown)\n",
      "[2025-09-16 05:07:23,523 E 4655 4655] logging.cc:497: *** SIGTERM received at time=1757999243 on cpu 1 ***\n",
      "[2025-09-16 05:07:23,523 E 4655 4655] logging.cc:497: PC: @     0x7fd871fbbe2e  (unknown)  epoll_wait\n",
      "[2025-09-16 05:07:23,524 E 4655 4655] logging.cc:497:     @     0x7fd812d4eb39         64  absl::lts_20240722::AbslFailureSignalHandler()\n",
      "[2025-09-16 05:07:23,524 E 4655 4655] logging.cc:497:     @     0x7fd871ed8520  (unknown)  (unknown)\n"
     ]
    }
   ],
   "source": [
    "%%html\n",
    "\n",
    "<p><b>Shutting down your kernel for this notebook to release resources.</b></p>\n",
    "<button class=\"sm-command-button\" data-commandlinker-command=\"kernelmenu:shutdown\" style=\"display:none;\">Shutdown Kernel</button>\n",
    "        \n",
    "<script>\n",
    "try {\n",
    "    els = document.getElementsByClassName(\"sm-command-button\");\n",
    "    els[0].click();\n",
    "}\n",
    "catch(err) {\n",
    "    // NoOp\n",
    "}    \n",
    "</script>"
   ]
  },
  {
   "cell_type": "code",
   "execution_count": null,
   "id": "bdca8e43-7d54-49f9-8337-799fc9c5c9e8",
   "metadata": {},
   "outputs": [],
   "source": []
  }
 ],
 "metadata": {
  "kernelspec": {
   "display_name": "Python 3 (ipykernel)",
   "language": "python",
   "name": "python3"
  },
  "language_info": {
   "codemirror_mode": {
    "name": "ipython",
    "version": 3
   },
   "file_extension": ".py",
   "mimetype": "text/x-python",
   "name": "python",
   "nbconvert_exporter": "python",
   "pygments_lexer": "ipython3",
   "version": "3.12.9"
  }
 },
 "nbformat": 4,
 "nbformat_minor": 5
}
